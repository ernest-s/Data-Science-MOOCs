{
 "cells": [
  {
   "cell_type": "markdown",
   "metadata": {},
   "source": [
    "<a rel=\"license\" href=\"http://creativecommons.org/licenses/by-nc-nd/4.0/\"><img alt=\"Creative Commons License\" style=\"border-width:0\" src=\"https://i.creativecommons.org/l/by-nc-nd/4.0/88x31.png\" /></a><br />This work is licensed under a <a rel=\"license\" href=\"http://creativecommons.org/licenses/by-nc-nd/4.0/\">Creative Commons Attribution-NonCommercial-NoDerivatives 4.0 International License</a>."
   ]
  },
  {
   "cell_type": "markdown",
   "metadata": {},
   "source": [
    "#![Spark Logo](http://spark-mooc.github.io/web-assets/images/ta_Spark-logo-small.png) + ![Python Logo](http://spark-mooc.github.io/web-assets/images/python-logo-master-v3-TM-flattened_small.png)\n",
    "\n",
    "# **Using the Course Autograder**\n",
    "\n",
    "Grading in this course is a three step process:\n",
    "* Completing the lab exercises and using the lab notebook's built-in autograder functionality (TestAssert). The built-in autograder provides you with immediate feedback about the correctness of your code.\n",
    "* Using the autograder notebook to submit a completed lab exercise to the course autograder. The course autograder runs the _exact_ same tests as the built-in notebook autograder. _There is no advantage to submitting to the course autograder until your code passes all built-in tests._\n",
    "* Submitting the submission ID from the course autograder on the edX course website. Submitting your submission ID on the edX course website will record your score for the assignment.\n",
    "\n",
    "** You must complete _all_ three steps to receive a score for a lab assignment. **\n",
    "\n",
    "This notebook will show you how to register for the course autograder, prepare a lab notebook for submission to the course autograder, and submit a notebook for grading by the autograder.\n",
    "\n",
    "You can run a cell by pressing \"shift-enter\", which will compute the current cell and advance to the next cell, or by clicking in a cell and pressing \"control-enter\", which will compute the current cell and remain in that cell.\n",
    "\n",
    "#### ** Make sure you have completed the Lab 0 notebook before you run this notebook  - this notebook uses libraries that are installed when you complete Lab 0. **\n",
    "\n",
    "** This notebook covers: **\n",
    "* *Part 1:* Register for the course autograder\n",
    "* *Part 2:* Save your private token\n",
    "* *Part 3:* Submit a lab to the course autograder\n",
    "* *Part 4:* Check the status of the course autograder queue\n",
    "* *Part 5:* Get your submission ID for submitting on the edX course website\n",
    "* *Part 6:* Examine the autograder results for your submission"
   ]
  },
  {
   "cell_type": "markdown",
   "metadata": {},
   "source": [
    "### Ignore the following cell. You will fill it in after Part 2 after you have received the email from the autograder"
   ]
  },
  {
   "cell_type": "code",
   "execution_count": 4,
   "metadata": {
    "collapsed": true
   },
   "outputs": [],
   "source": [
    "# AFTER you receive an email from the autograder:\n",
    "#    1. Replace <FILL_IN> with your private token in quotes (e.g., \"ABCDEFGHIJKLM\")\n",
    "#    2. Remove the comment symbol from before private_token\n",
    "#    3. Press SHIFT-ENTER to run this cell\n",
    "\n",
    "private_token = '560bfb1b-b46c-4a54-bc77-95915388fe91'"
   ]
  },
  {
   "cell_type": "markdown",
   "metadata": {},
   "source": [
    "#### ** Part 1: Register for the course autograder **\n",
    "\n",
    "Enter your email address in the next cell. Your email address must be a valid email address."
   ]
  },
  {
   "cell_type": "code",
   "execution_count": 6,
   "metadata": {
    "collapsed": true
   },
   "outputs": [],
   "source": [
    "# Replace <FILL_IN> with your email address in quotes (e.g., \"tester@test.com\")\n",
    "username = 'ernest.kirubakaran@gmail.com'"
   ]
  },
  {
   "cell_type": "code",
   "execution_count": 7,
   "metadata": {
    "collapsed": true
   },
   "outputs": [],
   "source": [
    "# Verify that the username is set\n",
    "try:\n",
    "  print \"Your username is \" + username\n",
    "except NameError:\n",
    "  assert False, \"Your username is not set. Please check that you set your username in the previous cell and you exectuted the cell using SHIFT-ENTER.\""
   ]
  },
  {
   "cell_type": "markdown",
   "metadata": {},
   "source": [
    "Run the following cell. If you see an **ImportError**, you should verify that you added the spark_mooc_meta library to your cluster and, if necessary, repeat step (1a) in **cs105_lab0.**\n",
    "\n",
    "<img src=\"http://spark-mooc.github.io/web-assets/images/autograder_LibraryError.png\" alt=\"Drawing\"  style=\"width: 600px;\"/>"
   ]
  },
  {
   "cell_type": "code",
   "execution_count": 9,
   "metadata": {
    "collapsed": true
   },
   "outputs": [],
   "source": [
    "from autograder import autograder\n",
    "signup = autograder()\n",
    "try:\n",
    "  print \"Your private token is \" + private_token\n",
    "except NameError:\n",
    "  print signup.signup(username)"
   ]
  },
  {
   "cell_type": "markdown",
   "metadata": {},
   "source": [
    "#### ** Part 2: Save your private token **\n",
    "\n",
    "You will receive an email from the course autograder with a private token. Here is a sample email.\n",
    "\n",
    "<img src=\"http://spark-mooc.github.io/web-assets/images/autograder_signup_samplemail.png\" alt=\"Drawing\" style=\"width: 600px;\"/>\n",
    "\n",
    "Copy the private token and paste it into the cell at the beginning of the notebook. Make sure you remove the comment character (#) before *private_token* and you execute the cell using SHIFT-ENTER.\n",
    "\n",
    "<img src=\"http://spark-mooc.github.io/web-assets/images/autograder_private_token.png\" alt=\"Drawing\" />"
   ]
  },
  {
   "cell_type": "code",
   "execution_count": 11,
   "metadata": {
    "collapsed": true
   },
   "outputs": [],
   "source": [
    "# Verify that the private_token is set\n",
    "try:\n",
    "  print \"Your private token is \" + private_token\n",
    "except NameError:\n",
    "  assert False, \"Your private token is not set. Please check that you: set the private_token in the cell at the beginning of the notebook, removed the comment character (#) before private_token, and you exectuted the cell using SHIFT-ENTER.\""
   ]
  },
  {
   "cell_type": "markdown",
   "metadata": {},
   "source": [
    "Now, you can use this notebook to submit a lab to the course autograder, get a list of your lab submissions to the autograder, get details about a specific submission you made, and get the status of the autograder queue."
   ]
  },
  {
   "cell_type": "markdown",
   "metadata": {},
   "source": [
    "#### ** Part 3: Submit a lab to the course autograder **\n",
    "\n",
    "Once you confirm that your lab notebook is passing all tests, you can submit it first to the course autograder and then second to the edX website to receive a grade.\n",
    "\n",
    "To perform the steps in Part 3, open two browser tabs: one with your lab notebook, and one with this autograder notebook.\n",
    "\n",
    "** Note that you can only submit to the course autograder once every ten minutes. **\n",
    "\n",
    "### Every time you submit to the course autograder, you must perform steps (3a), (3b), (3c), and (3d). ##"
   ]
  },
  {
   "cell_type": "markdown",
   "metadata": {},
   "source": [
    "** (3a) Restart your cluster by clicking on the dropdown next to your cluster name and selecting \"Restart Cluster\".**\n",
    "\n",
    "You can do this step in either notebook, since there is one cluster for your notebooks.\n",
    "\n",
    " <img src=\"http://spark-mooc.github.io/web-assets/images/submit_restart.png\" alt=\"Drawing\" />"
   ]
  },
  {
   "cell_type": "markdown",
   "metadata": {},
   "source": [
    "** (3b) _IN YOUR LAB NOTEBOOK_, click on \"Run All\" to run all of the cells in your LAB notebook. **\n",
    "\n",
    "  <img src=\"http://spark-mooc.github.io/web-assets/images/submit_runall.png\" alt=\"Drawing\" />\n",
    "\n",
    "This step will take some time. While the cluster is running all the cells in your lab notebook, you will see the \"Stop Execution\" button.\n",
    "\n",
    "  <img src=\"http://spark-mooc.github.io/web-assets/images/stop_execution.png\" alt=\"Drawing\" />\n",
    "\n",
    "Wait for your cluster to finish running the cells in your lab notebook before proceeding."
   ]
  },
  {
   "cell_type": "markdown",
   "metadata": {},
   "source": [
    "** (3c) Verify that your LAB notebook passes as many tests as you can. **\n",
    "\n",
    "Most computations should complete within a few seconds unless stated otherwise. As soon as the expression of a cell have been successfully evaluated, you will see one or more \"test passed\" messages if the cell includes test expressions:\n",
    "\n",
    "  <img src=\"http://spark-mooc.github.io/web-assets/images/test_passed.png\" alt=\"Drawing\" />\n",
    "\n",
    "or just execution time otherwise:\n",
    "\n",
    "  <img src=\"http://spark-mooc.github.io/web-assets/images/execution_time.png\" alt=\"Drawing\" />"
   ]
  },
  {
   "cell_type": "markdown",
   "metadata": {},
   "source": [
    "** (3d) Publish your LAB notebook by clicking on the \"Publish\" button at the top of your LAB notebook. **\n",
    "\n",
    "<img src=\"http://spark-mooc.github.io/web-assets/images/Lab0_Publish0.png\" alt=\"Drawing\" />\n",
    "\n",
    "When you click on the button, you will see the following popup.\n",
    "\n",
    "<img src=\"http://spark-mooc.github.io/web-assets/images/Lab0_Publish1.png\" alt=\"Drawing\" />\n",
    "\n",
    "When you click on \"Publish\", you will see a popup with your notebook's public link. __Copy the link and set the notebook_URL variable in the next cell to the link.__\n",
    "\n",
    "<img src=\"http://spark-mooc.github.io/web-assets/images/Lab0_Publish2.png\" alt=\"Drawing\" />"
   ]
  },
  {
   "cell_type": "code",
   "execution_count": 18,
   "metadata": {
    "collapsed": true
   },
   "outputs": [],
   "source": [
    "# Set the published notebook_url (e.g., notebook_url = \"https://databricks-prod-cloudfront.cloud.databricks.com/public/....\")\n",
    "notebook_url = 'https://databricks-prod-cloudfront.cloud.databricks.com/public/4027ec902e239c93eaaa8714f173bcfc/1308536164773320/289171559924965/5503422428011108/latest.html'"
   ]
  },
  {
   "cell_type": "markdown",
   "metadata": {},
   "source": [
    "** (3e) Re-run the AUTOGRADER notebook **\n",
    "\n",
    "Because you just restarted your cluster, all of the state of this autograder notebook has been lost. To recover it, all you have to do is to click on \"Run All\" (just as you did for your Lab notebook) and your cluster will run all the cells.\n",
    "\n",
    " <img src=\"http://spark-mooc.github.io/web-assets/images/submit_runall.png\" alt=\"Drawing\" />\n",
    "\n",
    "This step will finish quickly. While the cluster is running all the cells in your autograder notebook, you will see the \"Stop Execution\" button.\n",
    "\n",
    "  <img src=\"http://spark-mooc.github.io/web-assets/images/stop_execution.png\" alt=\"Drawing\" />\n",
    "\n",
    "Wait for your cluster to finish running the cells in your autograder notebook before proceeding.\n",
    "\n",
    "Note that it will stop on Step (3f), since you have not set the _lab_ variable yet."
   ]
  },
  {
   "cell_type": "code",
   "execution_count": 20,
   "metadata": {
    "collapsed": true
   },
   "outputs": [],
   "source": [
    "# Verify that the username is set\n",
    "try:\n",
    "  print \"Your username is \" + username\n",
    "except NameError:\n",
    "  assert False, \"Your username is not set. Please check that you set your username in the cell at the beginning of the notebook and you exectuted the cell using SHIFT-ENTER.\""
   ]
  },
  {
   "cell_type": "code",
   "execution_count": 21,
   "metadata": {
    "collapsed": true
   },
   "outputs": [],
   "source": [
    "# Verify that the private_token is set\n",
    "try:\n",
    "  print \"Your private token is \" + private_token\n",
    "except NameError:\n",
    "  assert False, \"Your private token is not set. Please check that you: set the private_token in the cell at the beginning of the notebook, removed the comment character (#) before private_token, and you exectuted the cell using SHIFT-ENTER.\""
   ]
  },
  {
   "cell_type": "markdown",
   "metadata": {},
   "source": [
    "** (3f) Select the Course Autograder queue **\n",
    "\n",
    "There are three autograder queues, one for each lab assignment in CS105x: **CS105x-lab0** (setup), **CS105x-lab1b**, and **CS105x-lab2**.\n",
    "Set the *lab* variable to the assignment you are submitting."
   ]
  },
  {
   "cell_type": "code",
   "execution_count": 23,
   "metadata": {
    "collapsed": true
   },
   "outputs": [],
   "source": [
    "# Set lab variable (e.g., lab = \"CS105x-lab0\")\n",
    "lab = \"CS120x-lab4\""
   ]
  },
  {
   "cell_type": "markdown",
   "metadata": {},
   "source": [
    "** (3g) Submit your published notebook to the Course Autograder queue **"
   ]
  },
  {
   "cell_type": "code",
   "execution_count": 25,
   "metadata": {
    "collapsed": true
   },
   "outputs": [],
   "source": [
    "client = autograder(username, private_token)\n",
    "client.submit(lab, notebook_url)"
   ]
  },
  {
   "cell_type": "markdown",
   "metadata": {},
   "source": [
    "#### ** Part 4: Check the status of the course autograder queue **\n",
    "\n",
    "To check the status of the autograder queue, you use **get_queue_status()**.\n",
    "\n",
    "You can re-run the following cell to redisplay the autograder queue status.\n",
    "\n",
    "When the queue is empty for you, it means all your submissions have been graded by the autograder and you can proceed to Part 5.\n",
    "\n",
    "**Note:** It will typically take a few minutes before you receive autograder feedback. If you do not receive feedback within one hour, please use the [Piazza discussion group](https://piazza.com/edx_berkeley/summer2016/cs1051x) to contact the TAs for support."
   ]
  },
  {
   "cell_type": "code",
   "execution_count": 27,
   "metadata": {
    "collapsed": true
   },
   "outputs": [],
   "source": [
    "# Re-run this cell to see the autograder queue status\n",
    "import json\n",
    "(result,queue) = client.get_queue_status()\n",
    "if (queue == []):\n",
    "  print \"No submisions for %s found in autograder queue. Proceed to Part 5.\" % username\n",
    "else:\n",
    "  # convert result to a Spark DataFrame\n",
    "  df_queue = sqlContext.jsonRDD(sc.parallelize([json.dumps(item) for item in queue]))\n",
    "  display(df_queue['submission_timestamp','grading_status','lab','username'])"
   ]
  },
  {
   "cell_type": "markdown",
   "metadata": {},
   "source": [
    "#### ** Part 5: Get your submission ID for submitting on the edX course website **\n",
    "\n",
    "To record your score for a lab, you need to submit a submission ID on the edX course website. Use **get_submission_list(lab)** to check your autograder results.\n",
    "\n",
    "* Copy the _submission_id_ that you want to submit for a score.\n",
    "* On the edX website page for the lab you completing, enter your **username for autograder** and **submission ID for the lab** to receive a score for the assignment on edX."
   ]
  },
  {
   "cell_type": "code",
   "execution_count": 29,
   "metadata": {
    "collapsed": true
   },
   "outputs": [],
   "source": [
    "import json\n",
    "(result,submission_list) = client.get_submission_list(lab)\n",
    "if (submission_list == []):\n",
    "  print \"No submisions for %s found in autograder queue for lab %s\" % (username, lab)\n",
    "else:\n",
    "  # convert result to a Spark DataFrame\n",
    "  df_submission_list = sqlContext.jsonRDD(sc.parallelize([json.dumps(item) for item in submission_list]))\n",
    "  display(df_submission_list['submission_timestamp','grade','submission_id','lab','username'])"
   ]
  },
  {
   "cell_type": "markdown",
   "metadata": {},
   "source": [
    "#### ** Part 6: Examine the autograder results for your submission **\n",
    "\n",
    "You can examine the feedback from the autograder using a _submission_id_ and **get_submission_detail(submission_id)**.\n",
    "\n",
    "* Copy the _submission_id_ that you want to submit for a score.\n",
    "* On the edX website page for the lab you completing, enter your **username for autograder** and **submission ID for the lab** to receive a score for the assignment on edX."
   ]
  },
  {
   "cell_type": "code",
   "execution_count": 31,
   "metadata": {
    "collapsed": true
   },
   "outputs": [],
   "source": [
    "# Set the submission_id (e.g., submission_id = \"CS105x-lab0-...-...-...-...-....\")\n",
    "submission_id = 'CS120x-lab4-fc43e6d7-7c20-4749-9698-dd071238c98a'"
   ]
  },
  {
   "cell_type": "markdown",
   "metadata": {},
   "source": [
    "** (6a) Viewing the number of tests passed and score **"
   ]
  },
  {
   "cell_type": "code",
   "execution_count": 33,
   "metadata": {
    "collapsed": true
   },
   "outputs": [],
   "source": [
    "import json\n",
    "(result,submission_detail) = client.get_submission_detail(submission_id)\n",
    "print submission_detail['autograder_results']\n",
    "print submission_detail['grade']"
   ]
  },
  {
   "cell_type": "markdown",
   "metadata": {},
   "source": [
    "** (6b) Viewing the raw output from the autograder **\n",
    "\n",
    "You can examine the complete output from the autograder."
   ]
  },
  {
   "cell_type": "code",
   "execution_count": 35,
   "metadata": {
    "collapsed": true
   },
   "outputs": [],
   "source": [
    "# Use displayHTML() function to check the raw results returned from autograder.\n",
    "displayHTML(html = submission_detail['raw_results'])"
   ]
  },
  {
   "cell_type": "markdown",
   "metadata": {},
   "source": [
    "## You will use this notebook throughout the course to submit your lab exercises.\n",
    "\n",
    "All you have to do is follow the steps in Part 3 and then click \"Run All\" to run all the cells in this notebook"
   ]
  }
 ],
 "metadata": {
  "kernelspec": {
   "display_name": "Python 2",
   "language": "python",
   "name": "python2"
  },
  "language_info": {
   "codemirror_mode": {
    "name": "ipython",
    "version": 2
   },
   "file_extension": ".py",
   "mimetype": "text/x-python",
   "name": "python",
   "nbconvert_exporter": "python",
   "pygments_lexer": "ipython2",
   "version": "2.7.11"
  },
  "name": "cs105_autograder",
  "notebookId": 705378824463034
 },
 "nbformat": 4,
 "nbformat_minor": 0
}
